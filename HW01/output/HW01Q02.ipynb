{
 "cells": [
  {
   "cell_type": "code",
   "execution_count": 1,
   "metadata": {},
   "outputs": [],
   "source": [
    "import numpy as np\n",
    "import matplotlib.pyplot as plt\n",
    "import pandas as pd"
   ]
  },
  {
   "cell_type": "code",
   "execution_count": 2,
   "metadata": {},
   "outputs": [],
   "source": [
    "col_names = []\n",
    "for i in range(60):\n",
    "    col_names.append('x%d'%i)\n",
    "col_names.append('label')"
   ]
  },
  {
   "cell_type": "code",
   "execution_count": 3,
   "metadata": {},
   "outputs": [],
   "source": [
    "#I shuffled the dataset once and kept it the same for all of the questions.\n",
    "#The next three commented codes were executed once.\n",
    "#data = pd.read_csv('F://Uni/992/Neural Networks/Homeworks/HW01/dataset.csv',names=col_names).replace({'label':{'M':1, 'R':0}})\n",
    "#data = data.sample(frac = 1).reset_index(drop=True)\n",
    "#data.to_csv('F://Uni/992/Neural Networks/Homeworks/HW01/shuffled.csv', header=False, index = False)"
   ]
  },
  {
   "cell_type": "code",
   "execution_count": 4,
   "metadata": {},
   "outputs": [],
   "source": [
    "data = pd.read_csv('F://Uni/992/Neural Networks/Homeworks/HW01/shuffled.csv',names=col_names)"
   ]
  },
  {
   "cell_type": "code",
   "execution_count": 5,
   "metadata": {},
   "outputs": [],
   "source": [
    "#data.head()"
   ]
  },
  {
   "cell_type": "code",
   "execution_count": 6,
   "metadata": {},
   "outputs": [
    {
     "name": "stdout",
     "output_type": "stream",
     "text": [
      "Dataset Shapes:\n",
      " (147, 60) (147,) (21, 60) (21,) (42, 60) (42,)\n"
     ]
    }
   ],
   "source": [
    "x_train = data.loc[:round(0.7*data.shape[0]),:].drop(columns='label')\n",
    "y_train = data.loc[:round(0.7*data.shape[0]),'label']\n",
    "x_val = data.loc[round(0.7*data.shape[0]):int(0.8*data.shape[0]),:].drop(columns='label')\n",
    "y_val = data.loc[round(0.7*data.shape[0]):int(0.8*data.shape[0]),'label']\n",
    "x_test = data.loc[round(0.8*data.shape[0]):,:].drop(columns='label')\n",
    "y_test = data.loc[round(0.8*data.shape[0]):,'label']\n",
    "\n",
    "print('Dataset Shapes:\\n',x_train.shape, y_train.shape, x_val.shape, y_val.shape, x_test.shape, y_test.shape)"
   ]
  },
  {
   "cell_type": "code",
   "execution_count": 7,
   "metadata": {},
   "outputs": [],
   "source": [
    "train_corr = x_train.corrwith(y_train, method='pearson')\n",
    "val_corr = x_val.corrwith(y_val, method='pearson')\n",
    "test_corr = x_test.corrwith(y_test, method='pearson')"
   ]
  },
  {
   "cell_type": "code",
   "execution_count": 8,
   "metadata": {},
   "outputs": [
    {
     "data": {
      "image/png": "[encoded data removed]",
      "text/plain": [
       "<Figure size 432x288 with 1 Axes>"
      ]
     },
     "metadata": {},
     "output_type": "display_data"
    }
   ],
   "source": [
    "plt.hist(train_corr, bins=train_corr.size)\n",
    "plt.title('Train Data Correlation')\n",
    "plt.ylabel('Number of Features')\n",
    "plt.xlabel('Correlation Coefficients')\n",
    "plt.show()"
   ]
  },
  {
   "cell_type": "code",
   "execution_count": 9,
   "metadata": {},
   "outputs": [
    {
     "name": "stdout",
     "output_type": "stream",
     "text": [
      "Most Correlated Features with the Training Data:\n",
      " [ 0  1  2  3  4  7  8  9 10 11 12 19 20 21 35 36 42 43 44 45 46 47 48 49\n",
      " 50 51 53 57]\n",
      "Their Correlation Coefficient:\n",
      " x0     0.331836\n",
      "x1     0.273755\n",
      "x2     0.245854\n",
      "x3     0.298598\n",
      "x4     0.263876\n",
      "x7     0.221507\n",
      "x8     0.357528\n",
      "x9     0.370877\n",
      "x10    0.457613\n",
      "x11    0.396940\n",
      "x12    0.319479\n",
      "x19    0.210487\n",
      "x20    0.266403\n",
      "x21    0.251105\n",
      "x35   -0.263542\n",
      "x36   -0.261576\n",
      "x42    0.229579\n",
      "x43    0.262662\n",
      "x44    0.347952\n",
      "x45    0.309246\n",
      "x46    0.297362\n",
      "x47    0.338154\n",
      "x48    0.380421\n",
      "x49    0.223052\n",
      "x50    0.308593\n",
      "x51    0.311574\n",
      "x53    0.225575\n",
      "x57    0.248338\n",
      "dtype: float64\n"
     ]
    }
   ],
   "source": [
    "mostcorr_train = np.where(np.absolute(train_corr)>=0.2)[0]\n",
    "print('Most Correlated Features with the Training Data:\\n', mostcorr_train)\n",
    "print('Their Correlation Coefficient:\\n', train_corr[mostcorr_train])"
   ]
  },
  {
   "cell_type": "code",
   "execution_count": 10,
   "metadata": {},
   "outputs": [
    {
     "data": {
      "image/png": "[encoded data removed]",
      "text/plain": [
       "<Figure size 432x288 with 1 Axes>"
      ]
     },
     "metadata": {},
     "output_type": "display_data"
    }
   ],
   "source": [
    "plt.hist(val_corr, bins=val_corr.size)\n",
    "plt.title('Validation Data Correlation')\n",
    "plt.ylabel('Number of Features')\n",
    "plt.xlabel('Correlation Coefficients')\n",
    "plt.show()"
   ]
  },
  {
   "cell_type": "code",
   "execution_count": 11,
   "metadata": {},
   "outputs": [
    {
     "name": "stdout",
     "output_type": "stream",
     "text": [
      "Most Correlated Features with the Validation Data:\n",
      " [ 8  9 10 11 12 13 24 25 26 27 28 33 34 35 36 39 40 44 45 46 50 53 54 56\n",
      " 57 58 59]\n",
      "Their Correlation Coefficient:\n",
      " x8     0.336849\n",
      "x9     0.262423\n",
      "x10    0.414491\n",
      "x11    0.535161\n",
      "x12    0.513774\n",
      "x13    0.203541\n",
      "x24    0.242858\n",
      "x25    0.401293\n",
      "x26    0.535366\n",
      "x27    0.496150\n",
      "x28    0.373224\n",
      "x33   -0.280682\n",
      "x34   -0.580183\n",
      "x35   -0.590455\n",
      "x36   -0.232405\n",
      "x39   -0.505942\n",
      "x40   -0.436518\n",
      "x44    0.314728\n",
      "x45    0.335659\n",
      "x46    0.287867\n",
      "x50   -0.382157\n",
      "x53   -0.394173\n",
      "x54   -0.287575\n",
      "x56   -0.521418\n",
      "x57   -0.630171\n",
      "x58   -0.379355\n",
      "x59   -0.380423\n",
      "dtype: float64\n"
     ]
    }
   ],
   "source": [
    "mostcorr_val = np.where(np.absolute(val_corr)>=0.2)[0]\n",
    "print('Most Correlated Features with the Validation Data:\\n', mostcorr_val)\n",
    "print('Their Correlation Coefficient:\\n', val_corr[mostcorr_val])"
   ]
  },
  {
   "cell_type": "code",
   "execution_count": 12,
   "metadata": {},
   "outputs": [
    {
     "data": {
      "image/png": "[encoded data removed]",
      "text/plain": [
       "<Figure size 432x288 with 1 Axes>"
      ]
     },
     "metadata": {},
     "output_type": "display_data"
    }
   ],
   "source": [
    "plt.hist(test_corr, bins=test_corr.size)\n",
    "plt.title('Test Data Correlation')\n",
    "plt.ylabel('Number of Features')\n",
    "plt.xlabel('Correlation Coefficients')\n",
    "plt.show()"
   ]
  },
  {
   "cell_type": "code",
   "execution_count": 13,
   "metadata": {},
   "outputs": [
    {
     "name": "stdout",
     "output_type": "stream",
     "text": [
      "Most Correlated Features with the Test Data:\n",
      " [ 9 10 11 18 19 20 24 34 35 38 42 43 44 45 46 47 48 50 51 52 57 58]\n",
      "Their Correlation Coefficient:\n",
      " x9     0.212922\n",
      "x10    0.331473\n",
      "x11    0.318697\n",
      "x18    0.338865\n",
      "x19    0.370609\n",
      "x20    0.252709\n",
      "x24   -0.246822\n",
      "x34   -0.219199\n",
      "x35   -0.205234\n",
      "x38    0.258698\n",
      "x42    0.330200\n",
      "x43    0.407431\n",
      "x44    0.309782\n",
      "x45    0.283060\n",
      "x46    0.333247\n",
      "x47    0.355805\n",
      "x48    0.357092\n",
      "x50    0.416928\n",
      "x51    0.278000\n",
      "x52    0.365919\n",
      "x57    0.273904\n",
      "x58    0.214245\n",
      "dtype: float64\n"
     ]
    }
   ],
   "source": [
    "mostcorr_test = np.where(np.absolute(test_corr)>=0.2)[0]\n",
    "print('Most Correlated Features with the Test Data:\\n',mostcorr_test)\n",
    "print('Their Correlation Coefficient:\\n', test_corr[mostcorr_test])"
   ]
  }
 ],
 "metadata": {
  "kernelspec": {
   "display_name": "Python 3",
   "language": "python",
   "name": "python3"
  },
  "language_info": {
   "codemirror_mode": {
    "name": "ipython",
    "version": 3
   },
   "file_extension": ".py",
   "mimetype": "text/x-python",
   "name": "python",
   "nbconvert_exporter": "python",
   "pygments_lexer": "ipython3",
   "version": "3.6.5"
  }
 },
 "nbformat": 4,
 "nbformat_minor": 2
}
