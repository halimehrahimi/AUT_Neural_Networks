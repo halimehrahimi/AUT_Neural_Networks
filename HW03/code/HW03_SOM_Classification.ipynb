{
 "cells": [
  {
   "cell_type": "code",
   "execution_count": 1,
   "metadata": {
    "executionInfo": {
     "elapsed": 2893,
     "status": "ok",
     "timestamp": 1620320967141,
     "user": {
      "displayName": "Halimeh Rahimi",
      "photoUrl": "https://lh3.googleusercontent.com/a-/AOh14GhWzXwhWYT5x91udg5Vdcu2IqeMyI0blV7osYGX=s64",
      "userId": "02492205551150555067"
     },
     "user_tz": -270
    },
    "id": "K2c3M6ySkSDx"
   },
   "outputs": [],
   "source": [
    "import numpy as np\n",
    "import pandas as pd\n",
    "import matplotlib.pyplot as plt\n",
    "from sklearn.metrics import confusion_matrix\n",
    "from sklearn.metrics import accuracy_score\n",
    "import tensorflow as tf\n",
    "from sklearn.preprocessing import StandardScaler"
   ]
  },
  {
   "cell_type": "code",
   "execution_count": 2,
   "metadata": {
    "executionInfo": {
     "elapsed": 2883,
     "status": "ok",
     "timestamp": 1620320967145,
     "user": {
      "displayName": "Halimeh Rahimi",
      "photoUrl": "https://lh3.googleusercontent.com/a-/AOh14GhWzXwhWYT5x91udg5Vdcu2IqeMyI0blV7osYGX=s64",
      "userId": "02492205551150555067"
     },
     "user_tz": -270
    },
    "id": "9MmpftVgk_hW"
   },
   "outputs": [],
   "source": [
    "def create_data_set(): \n",
    "    scaler = StandardScaler()\n",
    "    data = pd.read_csv('/content/drive/MyDrive/ANN/Datasets/yale_train.csv', header=None)\n",
    "    train_label = data.iloc[:,-1]\n",
    "    train_data = data.iloc[:,:-1]\n",
    "    train_data = pd.DataFrame(scaler.fit_transform(train_data))\n",
    "    data = pd.read_csv('/content/drive/MyDrive/ANN/Datasets/yale_val.csv', header=None)\n",
    "    val_label = data.iloc[:,-1]\n",
    "    val_data = data.iloc[:,:-1]\n",
    "    val_data = pd.DataFrame(scaler.transform(val_data))\n",
    "    data = pd.read_csv('/content/drive/MyDrive/ANN/Datasets/yale_test.csv', header=None)\n",
    "    test_label = data.iloc[:,-1]\n",
    "    test_data = data.iloc[:,:-1]\n",
    "    test_data = pd.DataFrame(scaler.fit_transform(test_data))\n",
    "\n",
    "    print('Number data in each group: ', len(train_label), len(val_label), len(test_label))\n",
    "    \n",
    "    return np.array(train_data), np.array(train_label), np.array(val_data), np.array(val_label), np.array(test_data), np.array(test_label)"
   ]
  },
  {
   "cell_type": "code",
   "execution_count": 3,
   "metadata": {
    "executionInfo": {
     "elapsed": 2878,
     "status": "ok",
     "timestamp": 1620320967148,
     "user": {
      "displayName": "Halimeh Rahimi",
      "photoUrl": "https://lh3.googleusercontent.com/a-/AOh14GhWzXwhWYT5x91udg5Vdcu2IqeMyI0blV7osYGX=s64",
      "userId": "02492205551150555067"
     },
     "user_tz": -270
    },
    "id": "iACTJVIxQnw_"
   },
   "outputs": [],
   "source": [
    "class EarlyStoppingCallback(tf.keras.callbacks.Callback):\n",
    "  def __init__(self, patience=0):\n",
    "    super(EarlyStoppingCallback, self).__init__()\n",
    "    self.patience = patience\n",
    "\n",
    "  def on_train_begin(self, logs=None):\n",
    "    self.best = -np.Inf\n",
    "    self.wait = 0\n",
    "    self.stopped_epoch = 0\n",
    "\n",
    "  def on_epoch_end(self, epoch, logs=None):\n",
    "    current_accuracy = logs.get(\"accuracy\")\n",
    "    if np.greater(current_accuracy, self.best):\n",
    "      self.best = current_accuracy\n",
    "      self.wait = 0\n",
    "      self.best_weights = self.model.get_weights()\n",
    "    else:\n",
    "      self.wait += 1\n",
    "      if self.wait >= self.patience:\n",
    "        self.stopped_epoch = epoch\n",
    "        self.model.stop_training = True\n",
    "        self.model.set_weights(self.best_weights)\n",
    "\n",
    "  def on_train_end(self, logs=None):\n",
    "    if self.stopped_epoch > 0:\n",
    "      print(\"epoch: %d: early stopping\" % self.stopped_epoch)"
   ]
  },
  {
   "cell_type": "code",
   "execution_count": 4,
   "metadata": {
    "colab": {
     "base_uri": "https://localhost:8080/"
    },
    "executionInfo": {
     "elapsed": 5871,
     "status": "ok",
     "timestamp": 1620320970249,
     "user": {
      "displayName": "Halimeh Rahimi",
      "photoUrl": "https://lh3.googleusercontent.com/a-/AOh14GhWzXwhWYT5x91udg5Vdcu2IqeMyI0blV7osYGX=s64",
      "userId": "02492205551150555067"
     },
     "user_tz": -270
    },
    "id": "zFqt0XPPlSMy",
    "outputId": "368aa33e-1338-4839-e3c6-c4889820ee48"
   },
   "outputs": [
    {
     "name": "stdout",
     "output_type": "stream",
     "text": [
      "Number data in each group:  99 44 22\n",
      "Epoch 1/25\n",
      "4/4 [==============================] - 1s 165ms/step - loss: 2.5705 - accuracy: 0.0997 - val_loss: 2.3814 - val_accuracy: 0.1136\n",
      "Epoch 2/25\n",
      "4/4 [==============================] - 0s 18ms/step - loss: 2.3182 - accuracy: 0.1674 - val_loss: 2.3526 - val_accuracy: 0.1364\n",
      "Epoch 3/25\n",
      "4/4 [==============================] - 0s 21ms/step - loss: 2.1444 - accuracy: 0.3118 - val_loss: 2.3277 - val_accuracy: 0.1364\n",
      "Epoch 4/25\n",
      "4/4 [==============================] - 0s 19ms/step - loss: 1.9830 - accuracy: 0.3568 - val_loss: 2.3061 - val_accuracy: 0.1591\n",
      "Epoch 5/25\n",
      "4/4 [==============================] - 0s 18ms/step - loss: 1.9002 - accuracy: 0.3714 - val_loss: 2.2926 - val_accuracy: 0.1591\n",
      "Epoch 6/25\n",
      "4/4 [==============================] - 0s 16ms/step - loss: 1.7613 - accuracy: 0.4642 - val_loss: 2.2839 - val_accuracy: 0.1591\n",
      "Epoch 7/25\n",
      "4/4 [==============================] - 0s 16ms/step - loss: 1.6950 - accuracy: 0.5062 - val_loss: 2.2752 - val_accuracy: 0.1591\n",
      "Epoch 8/25\n",
      "4/4 [==============================] - 0s 17ms/step - loss: 1.6187 - accuracy: 0.5648 - val_loss: 2.2661 - val_accuracy: 0.1591\n",
      "Epoch 9/25\n",
      "4/4 [==============================] - 0s 16ms/step - loss: 1.5419 - accuracy: 0.5730 - val_loss: 2.2570 - val_accuracy: 0.1591\n",
      "Epoch 10/25\n",
      "4/4 [==============================] - 0s 20ms/step - loss: 1.4279 - accuracy: 0.6155 - val_loss: 2.2516 - val_accuracy: 0.1591\n",
      "Epoch 11/25\n",
      "4/4 [==============================] - 0s 17ms/step - loss: 1.4207 - accuracy: 0.6345 - val_loss: 2.2489 - val_accuracy: 0.1591\n",
      "Epoch 12/25\n",
      "4/4 [==============================] - 0s 18ms/step - loss: 1.3727 - accuracy: 0.6882 - val_loss: 2.2469 - val_accuracy: 0.1591\n",
      "Epoch 13/25\n",
      "4/4 [==============================] - 0s 18ms/step - loss: 1.2722 - accuracy: 0.7159 - val_loss: 2.2451 - val_accuracy: 0.1818\n",
      "Epoch 14/25\n",
      "4/4 [==============================] - 0s 16ms/step - loss: 1.2471 - accuracy: 0.7219 - val_loss: 2.2438 - val_accuracy: 0.1818\n",
      "Epoch 15/25\n",
      "4/4 [==============================] - 0s 17ms/step - loss: 1.1541 - accuracy: 0.7563 - val_loss: 2.2424 - val_accuracy: 0.1818\n",
      "Epoch 16/25\n",
      "4/4 [==============================] - 0s 16ms/step - loss: 1.0913 - accuracy: 0.7644 - val_loss: 2.2410 - val_accuracy: 0.1818\n",
      "Epoch 17/25\n",
      "4/4 [==============================] - 0s 21ms/step - loss: 1.0142 - accuracy: 0.8193 - val_loss: 2.2372 - val_accuracy: 0.1818\n",
      "Epoch 18/25\n",
      "4/4 [==============================] - 0s 17ms/step - loss: 1.0151 - accuracy: 0.8046 - val_loss: 2.2352 - val_accuracy: 0.1818\n",
      "Epoch 19/25\n",
      "4/4 [==============================] - 0s 18ms/step - loss: 0.9567 - accuracy: 0.8273 - val_loss: 2.2345 - val_accuracy: 0.1591\n",
      "Epoch 20/25\n",
      "4/4 [==============================] - 0s 18ms/step - loss: 0.9434 - accuracy: 0.8243 - val_loss: 2.2344 - val_accuracy: 0.1591\n",
      "Epoch 21/25\n",
      "4/4 [==============================] - 0s 20ms/step - loss: 0.9552 - accuracy: 0.7619 - val_loss: 2.2361 - val_accuracy: 0.1591\n",
      "Epoch 22/25\n",
      "4/4 [==============================] - 0s 18ms/step - loss: 0.8310 - accuracy: 0.8047 - val_loss: 2.2387 - val_accuracy: 0.1591\n",
      "Epoch 23/25\n",
      "4/4 [==============================] - 0s 18ms/step - loss: 0.8052 - accuracy: 0.8057 - val_loss: 2.2407 - val_accuracy: 0.1591\n",
      "Epoch 24/25\n",
      "4/4 [==============================] - 0s 18ms/step - loss: 0.7760 - accuracy: 0.8180 - val_loss: 2.2394 - val_accuracy: 0.1591\n",
      "Epoch 25/25\n",
      "4/4 [==============================] - 0s 16ms/step - loss: 0.7412 - accuracy: 0.8324 - val_loss: 2.2393 - val_accuracy: 0.1818\n"
     ]
    }
   ],
   "source": [
    "if __name__ == \"__main__\":\n",
    "    map_size = [11,11]\n",
    "    train_data, train_label, val_data, val_label, test_data, test_label = create_data_set()\n",
    "\n",
    "    train_label = tf.keras.utils.to_categorical(train_label, 11)\n",
    "    val_label = tf.keras.utils.to_categorical(val_label, 11)\n",
    "\n",
    "    tf.keras.backend.clear_session()\n",
    "    cls_callback = EarlyStoppingCallback(patience=5)\n",
    "\n",
    "    inp = tf.keras.Input(shape = (map_size[0]*map_size[1]), name=\"input\")\n",
    "    hidden = tf.keras.layers.Dense(128, activation='relu')(inp)\n",
    "    hidden = tf.keras.layers.Dense(32, activation='relu')(hidden)\n",
    "    outp = tf.keras.layers.Dense(11, activation='softmax')(hidden)\n",
    "\n",
    "    model = tf.keras.Model(inputs=inp, outputs=outp)\n",
    "    model.compile(loss='categorical_crossentropy', optimizer=tf.keras.optimizers.Adam(), metrics=['accuracy'])\n",
    "    history = model.fit(train_data, train_label, epochs=25, verbose=1, validation_data=(val_data,val_label))#, callbacks=[cls_callback]"
   ]
  },
  {
   "cell_type": "code",
   "execution_count": 5,
   "metadata": {
    "colab": {
     "base_uri": "https://localhost:8080/"
    },
    "executionInfo": {
     "elapsed": 5292,
     "status": "ok",
     "timestamp": 1620320970260,
     "user": {
      "displayName": "Halimeh Rahimi",
      "photoUrl": "https://lh3.googleusercontent.com/a-/AOh14GhWzXwhWYT5x91udg5Vdcu2IqeMyI0blV7osYGX=s64",
      "userId": "02492205551150555067"
     },
     "user_tz": -270
    },
    "id": "oBjcpJprOOrF",
    "outputId": "b16f0870-01e9-40c4-a45b-3534358b065d"
   },
   "outputs": [
    {
     "name": "stdout",
     "output_type": "stream",
     "text": [
      "[[1 0 1 0 0 0 0 0 0 0 0]\n",
      " [1 0 1 0 0 0 0 0 0 0 0]\n",
      " [0 0 0 0 0 0 0 1 0 0 0]\n",
      " [0 0 0 2 0 0 0 0 0 0 0]\n",
      " [1 0 1 0 0 0 0 0 0 0 0]\n",
      " [0 0 1 0 1 0 0 0 0 0 0]\n",
      " [0 0 0 0 0 0 2 0 0 0 0]\n",
      " [0 0 1 0 0 0 0 1 0 1 0]\n",
      " [1 0 1 0 0 0 0 0 0 0 0]\n",
      " [1 0 1 0 0 0 0 0 0 0 0]\n",
      " [1 0 1 0 0 0 0 0 0 0 0]]\n",
      "0.2727272727272727\n"
     ]
    }
   ],
   "source": [
    "test_pred = np.argmax(model.predict(test_data), axis=-1)\n",
    "print(confusion_matrix(test_label, test_pred, np.arange(0,11)))\n",
    "print(accuracy_score(test_label, test_pred))"
   ]
  },
  {
   "cell_type": "code",
   "execution_count": 6,
   "metadata": {
    "colab": {
     "base_uri": "https://localhost:8080/",
     "height": 0
    },
    "executionInfo": {
     "elapsed": 4607,
     "status": "ok",
     "timestamp": 1620320970262,
     "user": {
      "displayName": "Halimeh Rahimi",
      "photoUrl": "https://lh3.googleusercontent.com/a-/AOh14GhWzXwhWYT5x91udg5Vdcu2IqeMyI0blV7osYGX=s64",
      "userId": "02492205551150555067"
     },
     "user_tz": -270
    },
    "id": "2hBIf9s1OIsH",
    "outputId": "1f37fd64-822e-4a5f-c0c9-8c551acbe354"
   },
   "outputs": [
    {
     "data": {
      "image/png": "[encoded data removed]",
      "text/plain": [
       "<Figure size 432x288 with 1 Axes>"
      ]
     },
     "metadata": {
      "needs_background": "light",
      "tags": []
     },
     "output_type": "display_data"
    }
   ],
   "source": [
    "plt.plot(history.history['accuracy'])\n",
    "plt.plot(history.history['val_accuracy'])\n",
    "plt.title('model accuracy')\n",
    "plt.ylabel('accuracy')\n",
    "plt.xlabel('epoch')\n",
    "plt.legend(['train', 'validation'], loc='upper left')\n",
    "plt.show()"
   ]
  }
 ],
 "metadata": {
  "accelerator": "TPU",
  "colab": {
   "authorship_tag": "ABX9TyNVz7PFgjgvsEc8o8d/5KVR",
   "collapsed_sections": [],
   "mount_file_id": "1283YHipZN3zgSC55aNart5DeIhMN4Tep",
   "name": "HW03_SOM_Classification.ipynb",
   "provenance": []
  },
  "kernelspec": {
   "display_name": "Python 3",
   "language": "python",
   "name": "python3"
  },
  "language_info": {
   "codemirror_mode": {
    "name": "ipython",
    "version": 3
   },
   "file_extension": ".py",
   "mimetype": "text/x-python",
   "name": "python",
   "nbconvert_exporter": "python",
   "pygments_lexer": "ipython3",
   "version": "3.6.5"
  }
 },
 "nbformat": 4,
 "nbformat_minor": 1
}
