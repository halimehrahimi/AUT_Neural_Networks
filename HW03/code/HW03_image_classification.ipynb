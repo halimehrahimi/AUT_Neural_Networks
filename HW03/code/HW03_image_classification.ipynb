{
 "cells": [
  {
   "cell_type": "code",
   "execution_count": 1,
   "metadata": {
    "executionInfo": {
     "elapsed": 2942,
     "status": "ok",
     "timestamp": 1620320878013,
     "user": {
      "displayName": "Halimeh Rahimi",
      "photoUrl": "https://lh3.googleusercontent.com/a-/AOh14GhWzXwhWYT5x91udg5Vdcu2IqeMyI0blV7osYGX=s64",
      "userId": "02492205551150555067"
     },
     "user_tz": -270
    },
    "id": "fuIUEPWkPNis"
   },
   "outputs": [],
   "source": [
    "import numpy as np\n",
    "import pandas as pd\n",
    "import matplotlib.pyplot as plt\n",
    "from sklearn.metrics import confusion_matrix\n",
    "from sklearn.metrics import accuracy_score\n",
    "import tensorflow as tf\n",
    "import os\n",
    "from skimage import io\n",
    "from sklearn.preprocessing import LabelEncoder\n",
    "from sklearn.preprocessing import StandardScaler"
   ]
  },
  {
   "cell_type": "code",
   "execution_count": 2,
   "metadata": {
    "executionInfo": {
     "elapsed": 4048,
     "status": "ok",
     "timestamp": 1620320879135,
     "user": {
      "displayName": "Halimeh Rahimi",
      "photoUrl": "https://lh3.googleusercontent.com/a-/AOh14GhWzXwhWYT5x91udg5Vdcu2IqeMyI0blV7osYGX=s64",
      "userId": "02492205551150555067"
     },
     "user_tz": -270
    },
    "id": "26mB3Ut0PT6B"
   },
   "outputs": [],
   "source": [
    "def create_data_set(): \n",
    "    images_path = [ os.path.join(\"/content/drive/MyDrive/ANN/Datasets/yalefaces/\", item)  for item in  os.listdir(\n",
    "        \"/content/drive/MyDrive/ANN/Datasets/yalefaces\") ]\n",
    "    image_data = []\n",
    "    image_labels = []\n",
    "    num = 0\n",
    "    scaler = StandardScaler()\n",
    "    for i,im_path in enumerate(images_path):\n",
    "        im = io.imread(im_path)\n",
    "        image_data.append(np.array(np.ravel(im), dtype='uint8'))\n",
    "        label = os.path.split(im_path)[1].split(\".\")[1]\n",
    "        image_labels.append(label)\n",
    "    enc = LabelEncoder()\n",
    "    image_labels = enc.fit_transform(np.array(image_labels))\n",
    "    train_data, train_label = image_data[:9*11], image_labels[:9*11]\n",
    "    val_data, val_label = image_data[9*11:13*11], image_labels[9*11:13*11]\n",
    "    test_data, test_label = image_data[13*11:], image_labels[13*11:]\n",
    "    \n",
    "    train_data = scaler.fit_transform(train_data)\n",
    "    val_data = scaler.transform(val_data)\n",
    "    test_data = scaler.fit_transform(test_data)\n",
    "    print('Number data in each group: ', len(train_data), len(val_data), len(test_data))\n",
    "    \n",
    "    return np.array(train_data), np.array(train_label), np.array(val_data), np.array(val_label), np.array(test_data), np.array(test_label)"
   ]
  },
  {
   "cell_type": "code",
   "execution_count": 3,
   "metadata": {
    "executionInfo": {
     "elapsed": 4041,
     "status": "ok",
     "timestamp": 1620320879137,
     "user": {
      "displayName": "Halimeh Rahimi",
      "photoUrl": "https://lh3.googleusercontent.com/a-/AOh14GhWzXwhWYT5x91udg5Vdcu2IqeMyI0blV7osYGX=s64",
      "userId": "02492205551150555067"
     },
     "user_tz": -270
    },
    "id": "5uMyHm61P051"
   },
   "outputs": [],
   "source": [
    "class EarlyStoppingCallback(tf.keras.callbacks.Callback):\n",
    "  def __init__(self, patience=0):\n",
    "    super(EarlyStoppingCallback, self).__init__()\n",
    "    self.patience = patience\n",
    "\n",
    "  def on_train_begin(self, logs=None):\n",
    "    self.best = -np.Inf\n",
    "    self.wait = 0\n",
    "    self.stopped_epoch = 0\n",
    "\n",
    "  def on_epoch_end(self, epoch, logs=None):\n",
    "    current_accuracy = logs.get(\"accuracy\")\n",
    "    if np.greater(current_accuracy, self.best):\n",
    "      self.best = current_accuracy\n",
    "      self.wait = 0\n",
    "      self.best_weights = self.model.get_weights()\n",
    "    else:\n",
    "      self.wait += 1\n",
    "      if self.wait >= self.patience:\n",
    "        self.stopped_epoch = epoch\n",
    "        self.model.stop_training = True\n",
    "        self.model.set_weights(self.best_weights)\n",
    "\n",
    "  def on_train_end(self, logs=None):\n",
    "    if self.stopped_epoch > 0:\n",
    "      print(\"epoch: %d: early stopping\" % self.stopped_epoch)"
   ]
  },
  {
   "cell_type": "code",
   "execution_count": 4,
   "metadata": {
    "colab": {
     "base_uri": "https://localhost:8080/"
    },
    "executionInfo": {
     "elapsed": 12563,
     "status": "ok",
     "timestamp": 1620320887670,
     "user": {
      "displayName": "Halimeh Rahimi",
      "photoUrl": "https://lh3.googleusercontent.com/a-/AOh14GhWzXwhWYT5x91udg5Vdcu2IqeMyI0blV7osYGX=s64",
      "userId": "02492205551150555067"
     },
     "user_tz": -270
    },
    "id": "nCmp9pIgPAST",
    "outputId": "09abb1da-b40b-48eb-d5b7-570982ddc1f0"
   },
   "outputs": [
    {
     "name": "stdout",
     "output_type": "stream",
     "text": [
      "Number data in each group:  99 44 22\n",
      "Epoch 1/25\n",
      "4/4 [==============================] - 1s 241ms/step - loss: 14.2249 - accuracy: 0.1520 - val_loss: 13.9327 - val_accuracy: 0.2500\n",
      "Epoch 2/25\n",
      "4/4 [==============================] - 0s 77ms/step - loss: 18.8386 - accuracy: 0.3367 - val_loss: 13.1985 - val_accuracy: 0.2500\n",
      "Epoch 3/25\n",
      "4/4 [==============================] - 0s 77ms/step - loss: 11.8759 - accuracy: 0.3189 - val_loss: 11.9737 - val_accuracy: 0.2500\n",
      "Epoch 4/25\n",
      "4/4 [==============================] - 0s 78ms/step - loss: 10.6563 - accuracy: 0.3206 - val_loss: 11.0888 - val_accuracy: 0.2500\n",
      "Epoch 5/25\n",
      "4/4 [==============================] - 0s 77ms/step - loss: 8.7424 - accuracy: 0.3850 - val_loss: 11.3335 - val_accuracy: 0.2500\n",
      "Epoch 6/25\n",
      "4/4 [==============================] - 0s 75ms/step - loss: 5.6591 - accuracy: 0.4890 - val_loss: 11.9980 - val_accuracy: 0.2273\n",
      "Epoch 7/25\n",
      "4/4 [==============================] - 0s 78ms/step - loss: 4.9848 - accuracy: 0.4219 - val_loss: 12.2409 - val_accuracy: 0.1818\n",
      "Epoch 8/25\n",
      "4/4 [==============================] - 0s 75ms/step - loss: 4.3748 - accuracy: 0.4761 - val_loss: 12.5971 - val_accuracy: 0.2500\n",
      "Epoch 9/25\n",
      "4/4 [==============================] - 0s 75ms/step - loss: 2.4466 - accuracy: 0.4640 - val_loss: 12.7363 - val_accuracy: 0.2273\n",
      "Epoch 10/25\n",
      "4/4 [==============================] - 0s 76ms/step - loss: 1.9571 - accuracy: 0.5014 - val_loss: 13.0016 - val_accuracy: 0.2500\n",
      "Epoch 11/25\n",
      "4/4 [==============================] - 0s 75ms/step - loss: 2.0702 - accuracy: 0.4857 - val_loss: 14.0088 - val_accuracy: 0.2045\n",
      "Epoch 12/25\n",
      "4/4 [==============================] - 0s 87ms/step - loss: 1.7192 - accuracy: 0.5166 - val_loss: 15.0024 - val_accuracy: 0.2045\n",
      "Epoch 13/25\n",
      "4/4 [==============================] - 0s 77ms/step - loss: 1.4092 - accuracy: 0.4857 - val_loss: 15.2978 - val_accuracy: 0.2273\n",
      "Epoch 14/25\n",
      "4/4 [==============================] - 0s 73ms/step - loss: 1.7766 - accuracy: 0.5674 - val_loss: 13.7761 - val_accuracy: 0.2045\n",
      "Epoch 15/25\n",
      "4/4 [==============================] - 0s 77ms/step - loss: 1.4747 - accuracy: 0.5042 - val_loss: 13.2084 - val_accuracy: 0.2045\n",
      "Epoch 16/25\n",
      "4/4 [==============================] - 0s 75ms/step - loss: 1.4319 - accuracy: 0.5443 - val_loss: 12.7989 - val_accuracy: 0.2045\n",
      "Epoch 17/25\n",
      "4/4 [==============================] - 0s 74ms/step - loss: 1.2788 - accuracy: 0.5226 - val_loss: 12.0470 - val_accuracy: 0.1818\n",
      "Epoch 18/25\n",
      "4/4 [==============================] - 0s 73ms/step - loss: 1.2368 - accuracy: 0.5412 - val_loss: 11.4468 - val_accuracy: 0.1818\n",
      "Epoch 19/25\n",
      "4/4 [==============================] - 0s 72ms/step - loss: 1.2679 - accuracy: 0.5276 - val_loss: 11.2495 - val_accuracy: 0.1818\n",
      "Epoch 20/25\n",
      "4/4 [==============================] - 0s 76ms/step - loss: 1.0956 - accuracy: 0.5678 - val_loss: 11.5310 - val_accuracy: 0.1818\n",
      "Epoch 21/25\n",
      "4/4 [==============================] - 0s 73ms/step - loss: 1.3027 - accuracy: 0.5824 - val_loss: 10.9730 - val_accuracy: 0.1818\n",
      "Epoch 22/25\n",
      "4/4 [==============================] - 0s 83ms/step - loss: 1.0916 - accuracy: 0.6008 - val_loss: 10.9286 - val_accuracy: 0.2045\n",
      "Epoch 23/25\n",
      "4/4 [==============================] - 0s 74ms/step - loss: 1.0361 - accuracy: 0.6381 - val_loss: 10.9658 - val_accuracy: 0.2045\n",
      "Epoch 24/25\n",
      "4/4 [==============================] - 0s 76ms/step - loss: 1.1117 - accuracy: 0.6000 - val_loss: 10.8658 - val_accuracy: 0.2045\n",
      "Epoch 25/25\n",
      "4/4 [==============================] - 0s 75ms/step - loss: 1.2409 - accuracy: 0.5636 - val_loss: 11.0494 - val_accuracy: 0.2045\n"
     ]
    }
   ],
   "source": [
    "if __name__ == \"__main__\":\n",
    "    train_data, train_label, val_data, val_label, test_data, test_label = create_data_set()\n",
    "\n",
    "    train_label = tf.keras.utils.to_categorical(train_label, 11)\n",
    "    val_label = tf.keras.utils.to_categorical(val_label, 11)\n",
    "\n",
    "    tf.keras.backend.clear_session()\n",
    "    cls_callback = EarlyStoppingCallback(patience=5)\n",
    "\n",
    "    inp = tf.keras.Input(shape = (320*243), name=\"input\")\n",
    "    hidden = tf.keras.layers.Dense(128, activation='relu')(inp)\n",
    "    hidden = tf.keras.layers.Dense(32, activation='relu')(hidden)\n",
    "    outp = tf.keras.layers.Dense(11, activation='softmax')(hidden)\n",
    "\n",
    "    model = tf.keras.Model(inputs=inp, outputs=outp)\n",
    "\n",
    "    model.compile(loss='categorical_crossentropy', optimizer=tf.keras.optimizers.Adam(), metrics=['accuracy'])\n",
    "    history = model.fit(train_data, train_label, epochs=25, verbose=1, validation_data=(val_data,val_label))#, callbacks=[cls_callback]"
   ]
  },
  {
   "cell_type": "code",
   "execution_count": 5,
   "metadata": {
    "colab": {
     "base_uri": "https://localhost:8080/"
    },
    "executionInfo": {
     "elapsed": 13996,
     "status": "ok",
     "timestamp": 1620320889111,
     "user": {
      "displayName": "Halimeh Rahimi",
      "photoUrl": "https://lh3.googleusercontent.com/a-/AOh14GhWzXwhWYT5x91udg5Vdcu2IqeMyI0blV7osYGX=s64",
      "userId": "02492205551150555067"
     },
     "user_tz": -270
    },
    "id": "dzdgCOU5O68z",
    "outputId": "2208d253-1f22-4574-c986-c101c003bf7c"
   },
   "outputs": [
    {
     "name": "stdout",
     "output_type": "stream",
     "text": [
      "[[1 0 0 0 0 0 0 0 0 0 1]\n",
      " [1 1 0 0 0 0 0 0 0 0 0]\n",
      " [0 0 0 0 0 0 0 0 0 0 1]\n",
      " [0 0 0 2 0 0 0 0 0 0 0]\n",
      " [1 0 0 0 0 0 0 0 1 0 0]\n",
      " [1 0 0 0 0 0 0 0 0 0 1]\n",
      " [0 0 0 0 0 0 2 0 0 0 0]\n",
      " [1 0 0 0 0 0 0 0 0 0 2]\n",
      " [1 0 0 0 0 0 0 0 1 0 0]\n",
      " [1 0 0 0 0 0 0 0 0 0 1]\n",
      " [1 0 0 0 0 0 0 0 0 1 0]]\n",
      "0.3181818181818182\n"
     ]
    }
   ],
   "source": [
    "test_pred = np.argmax(model.predict(test_data), axis=-1)\n",
    "print(confusion_matrix(test_label, test_pred, np.arange(0,11)))\n",
    "print(accuracy_score(test_label, test_pred))"
   ]
  },
  {
   "cell_type": "code",
   "execution_count": 6,
   "metadata": {
    "colab": {
     "base_uri": "https://localhost:8080/",
     "height": 295
    },
    "executionInfo": {
     "elapsed": 14001,
     "status": "ok",
     "timestamp": 1620320889128,
     "user": {
      "displayName": "Halimeh Rahimi",
      "photoUrl": "https://lh3.googleusercontent.com/a-/AOh14GhWzXwhWYT5x91udg5Vdcu2IqeMyI0blV7osYGX=s64",
      "userId": "02492205551150555067"
     },
     "user_tz": -270
    },
    "id": "xy8ngnAGN843",
    "outputId": "d7b5074e-c166-4f46-dabd-d918c64dd5f2"
   },
   "outputs": [
    {
     "data": {
      "image/png": "[encoded data removed]",
      "text/plain": [
       "<Figure size 432x288 with 1 Axes>"
      ]
     },
     "metadata": {
      "needs_background": "light",
      "tags": []
     },
     "output_type": "display_data"
    }
   ],
   "source": [
    "plt.plot(history.history['accuracy'])\n",
    "plt.plot(history.history['val_accuracy'])\n",
    "plt.title('model accuracy')\n",
    "plt.ylabel('accuracy')\n",
    "plt.xlabel('epoch')\n",
    "plt.legend(['train', 'validation'], loc='upper left')\n",
    "plt.show()"
   ]
  }
 ],
 "metadata": {
  "accelerator": "TPU",
  "colab": {
   "authorship_tag": "ABX9TyOQy70jG1/JAj+h4QoAn3z/",
   "collapsed_sections": [],
   "mount_file_id": "12bH9IqYFN-3FYaocpsuPzQ_wwbc5-T2x",
   "name": "HW03_image_classification.ipynb",
   "provenance": []
  },
  "kernelspec": {
   "display_name": "Python 3",
   "language": "python",
   "name": "python3"
  },
  "language_info": {
   "codemirror_mode": {
    "name": "ipython",
    "version": 3
   },
   "file_extension": ".py",
   "mimetype": "text/x-python",
   "name": "python",
   "nbconvert_exporter": "python",
   "pygments_lexer": "ipython3",
   "version": "3.6.5"
  }
 },
 "nbformat": 4,
 "nbformat_minor": 1
}
